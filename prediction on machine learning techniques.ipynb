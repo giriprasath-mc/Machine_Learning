{
 "cells": [
  {
   "cell_type": "code",
   "execution_count": null,
   "id": "d7ab3f05",
   "metadata": {},
   "outputs": [],
   "source": [
    "#This is a project on Machine learning Techniques on real life dataset "
   ]
  },
  {
   "cell_type": "code",
   "execution_count": 97,
   "id": "e07906b3",
   "metadata": {},
   "outputs": [],
   "source": [
    "import numpy as np\n",
    "import pandas as pd\n",
    "from sklearn.preprocessing import LabelEncoder, OneHotEncoder , StandardScaler\n",
    "from sklearn.model_selection import train_test_split\n",
    "from sklearn.metrics import roc_auc_score , roc_curve\n",
    "import matplotlib.pyplot as plt\n",
    "\n",
    "\n"
   ]
  },
  {
   "cell_type": "code",
   "execution_count": 98,
   "id": "f5a1d0d0",
   "metadata": {},
   "outputs": [],
   "source": [
    "data = pd.read_csv (\"C:\\\\Users\\\\GIRIPRASATH\\\\Downloads\\\\dataset8.csv\")"
   ]
  },
  {
   "cell_type": "code",
   "execution_count": 99,
   "id": "b1cda486",
   "metadata": {},
   "outputs": [
    {
     "data": {
      "text/html": [
       "<div>\n",
       "<style scoped>\n",
       "    .dataframe tbody tr th:only-of-type {\n",
       "        vertical-align: middle;\n",
       "    }\n",
       "\n",
       "    .dataframe tbody tr th {\n",
       "        vertical-align: top;\n",
       "    }\n",
       "\n",
       "    .dataframe thead th {\n",
       "        text-align: right;\n",
       "    }\n",
       "</style>\n",
       "<table border=\"1\" class=\"dataframe\">\n",
       "  <thead>\n",
       "    <tr style=\"text-align: right;\">\n",
       "      <th></th>\n",
       "      <th>age</th>\n",
       "      <th>salary</th>\n",
       "      <th>Insurance</th>\n",
       "    </tr>\n",
       "  </thead>\n",
       "  <tbody>\n",
       "    <tr>\n",
       "      <th>0</th>\n",
       "      <td>19</td>\n",
       "      <td>16884.92400</td>\n",
       "      <td>N</td>\n",
       "    </tr>\n",
       "    <tr>\n",
       "      <th>1</th>\n",
       "      <td>18</td>\n",
       "      <td>1725.55230</td>\n",
       "      <td>N</td>\n",
       "    </tr>\n",
       "    <tr>\n",
       "      <th>2</th>\n",
       "      <td>28</td>\n",
       "      <td>4449.46200</td>\n",
       "      <td>N</td>\n",
       "    </tr>\n",
       "    <tr>\n",
       "      <th>3</th>\n",
       "      <td>33</td>\n",
       "      <td>21984.47061</td>\n",
       "      <td>Y</td>\n",
       "    </tr>\n",
       "    <tr>\n",
       "      <th>4</th>\n",
       "      <td>32</td>\n",
       "      <td>3866.85520</td>\n",
       "      <td>N</td>\n",
       "    </tr>\n",
       "  </tbody>\n",
       "</table>\n",
       "</div>"
      ],
      "text/plain": [
       "   age       salary Insurance\n",
       "0   19  16884.92400         N\n",
       "1   18   1725.55230         N\n",
       "2   28   4449.46200         N\n",
       "3   33  21984.47061         Y\n",
       "4   32   3866.85520         N"
      ]
     },
     "execution_count": 99,
     "metadata": {},
     "output_type": "execute_result"
    }
   ],
   "source": [
    "data.head()"
   ]
  },
  {
   "cell_type": "code",
   "execution_count": 100,
   "id": "d901edb0",
   "metadata": {},
   "outputs": [],
   "source": [
    "x = data.iloc[:,:-1].values"
   ]
  },
  {
   "cell_type": "code",
   "execution_count": 101,
   "id": "444cd4dd",
   "metadata": {},
   "outputs": [
    {
     "name": "stdout",
     "output_type": "stream",
     "text": [
      "[[1.90000000e+01 1.68849240e+04]\n",
      " [1.80000000e+01 1.72555230e+03]\n",
      " [2.80000000e+01 4.44946200e+03]\n",
      " ...\n",
      " [1.80000000e+01 1.62983350e+03]\n",
      " [2.10000000e+01 2.00794500e+03]\n",
      " [6.10000000e+01 2.91413603e+04]]\n"
     ]
    }
   ],
   "source": [
    "print(x)"
   ]
  },
  {
   "cell_type": "code",
   "execution_count": 102,
   "id": "de72c179",
   "metadata": {},
   "outputs": [],
   "source": [
    "y = data.iloc[:,2].values"
   ]
  },
  {
   "cell_type": "code",
   "execution_count": 103,
   "id": "ed8920b8",
   "metadata": {},
   "outputs": [
    {
     "name": "stdout",
     "output_type": "stream",
     "text": [
      "['N' 'N' 'N' ... 'N' 'N' 'Y']\n"
     ]
    }
   ],
   "source": [
    "print(y)"
   ]
  },
  {
   "cell_type": "code",
   "execution_count": 104,
   "id": "a2dcda44",
   "metadata": {},
   "outputs": [],
   "source": [
    "label_encoder=LabelEncoder()\n",
    "\n"
   ]
  },
  {
   "cell_type": "code",
   "execution_count": 105,
   "id": "ceb9c86f",
   "metadata": {},
   "outputs": [],
   "source": [
    "x[:,1] = label_encoder.fit_transform(x[:,1])"
   ]
  },
  {
   "cell_type": "code",
   "execution_count": 106,
   "id": "617c8b72",
   "metadata": {},
   "outputs": [
    {
     "name": "stdout",
     "output_type": "stream",
     "text": [
      "[[  19. 1005.]\n",
      " [  18.   57.]\n",
      " [  28.  306.]\n",
      " ...\n",
      " [  18.   32.]\n",
      " [  21.   91.]\n",
      " [  61. 1171.]]\n"
     ]
    }
   ],
   "source": [
    "print(x)"
   ]
  },
  {
   "cell_type": "code",
   "execution_count": 107,
   "id": "a652c53b",
   "metadata": {},
   "outputs": [],
   "source": [
    "y = label_encoder.fit_transform(y)"
   ]
  },
  {
   "cell_type": "code",
   "execution_count": 108,
   "id": "758ae7a1",
   "metadata": {},
   "outputs": [
    {
     "name": "stdout",
     "output_type": "stream",
     "text": [
      "[0 0 0 ... 0 0 1]\n"
     ]
    }
   ],
   "source": [
    "print(y)"
   ]
  },
  {
   "cell_type": "code",
   "execution_count": 109,
   "id": "bdd09c2a",
   "metadata": {},
   "outputs": [],
   "source": [
    "x_train,x_test,y_train,y_test = train_test_split(x,y, test_size = 0.2, random_state = 0)"
   ]
  },
  {
   "cell_type": "code",
   "execution_count": 110,
   "id": "5ac21953",
   "metadata": {},
   "outputs": [],
   "source": [
    "scaler = StandardScaler()"
   ]
  },
  {
   "cell_type": "code",
   "execution_count": 111,
   "id": "610840c1",
   "metadata": {},
   "outputs": [],
   "source": [
    "x_train = scaler.fit_transform(x_train)"
   ]
  },
  {
   "cell_type": "code",
   "execution_count": 112,
   "id": "0c2242d4",
   "metadata": {},
   "outputs": [],
   "source": [
    "x_test = scaler.transform(x_test)"
   ]
  },
  {
   "cell_type": "code",
   "execution_count": 113,
   "id": "361add4c",
   "metadata": {},
   "outputs": [
    {
     "name": "stdout",
     "output_type": "stream",
     "text": [
      "[[ 0.91668389  0.06435329]\n",
      " [ 0.56161157 -0.14281639]\n",
      " [ 0.63262604  1.63884289]\n",
      " [ 1.55581405  0.59522561]\n",
      " [ 0.84566942  0.05399481]\n",
      " [-0.36157644 -0.92229233]\n",
      " [-1.49780784 -1.4350373 ]\n",
      " [ 0.84566942  0.35180123]\n",
      " [-0.07751859 -0.31373138]\n",
      " [-0.57461983 -0.7099434 ]\n",
      " [-0.36157644 -0.47169826]\n",
      " [ 0.77465496  0.18606548]\n",
      " [ 0.27755372 -0.35775494]\n",
      " [-0.4325909  -1.00257058]\n",
      " [-0.85867768  0.93964521]\n",
      " [ 0.77465496  0.21455131]\n",
      " [ 1.48479959  0.53566432]\n",
      " [-0.92969214 -1.13464125]\n",
      " [-0.07751859 -0.52866993]\n",
      " [-1.35577892  1.34880533]\n",
      " [ 0.84566942  1.17012148]\n",
      " [ 1.20074174  0.55897091]\n",
      " [ 0.91668389  1.13904603]\n",
      " [ 0.56161157  1.14163565]\n",
      " [-1.21374999 -1.61372115]\n",
      " [-0.50360537 -0.88603763]\n",
      " [-0.78766322 -1.09320732]\n",
      " [ 0.06451033 -0.29301441]\n",
      " [-0.57461983 -1.08802807]\n",
      " [ 0.41958265 -0.17648146]\n",
      " [ 0.06451033 -0.24381161]\n",
      " [ 1.41378513  1.71135228]\n",
      " [ 1.62682851  0.60040485]\n",
      " [ 1.12972727  1.05099891]\n",
      " [-1.07172107  0.79203681]\n",
      " [-0.64563429 -1.01033944]\n",
      " [ 0.49059711 -0.18166071]\n",
      " [-0.78766322  1.71653152]\n",
      " [ 0.06451033  1.53007881]\n",
      " [-1.35577892 -1.52567403]\n",
      " [-0.21954752 -0.70217454]\n",
      " [-0.71664876 -1.25635344]\n",
      " [-0.00650413  1.03028195]\n",
      " [ 1.34277066  1.68545607]\n",
      " [-1.49780784  1.41354586]\n",
      " [-1.28476446  1.23486201]\n",
      " [ 0.77465496  1.01733384]\n",
      " [ 0.20653926 -0.44062281]\n",
      " [-0.64563429 -0.87308953]\n",
      " [ 1.2717562   1.11832906]\n",
      " [-1.14273553 -1.2511742 ]\n",
      " [-1.42679338  0.96036218]\n",
      " [ 0.63262604  1.16235262]\n",
      " [ 0.84566942  1.65697024]\n",
      " [ 1.34277066  1.18047997]\n",
      " [-0.78766322 -1.18125443]\n",
      " [-0.92969214 -1.38842412]\n",
      " [ 0.77465496 -0.08325511]\n",
      " [ 0.27755372  0.78944719]\n",
      " [ 1.48479959  0.62112182]\n",
      " [-1.42679338 -1.69140978]\n",
      " [ 1.62682851  1.6647391 ]\n",
      " [ 1.48479959  0.71434818]\n",
      " [ 0.77465496  0.04881557]\n",
      " [ 0.63262604  0.22232018]\n",
      " [ 0.84566942  0.10060799]\n",
      " [-1.42679338  1.33585723]\n",
      " [-0.57461983  1.48864487]\n",
      " [-1.28476446 -1.2019714 ]\n",
      " [ 0.06451033 -0.22309464]\n",
      " [ 1.55581405  0.61335296]\n",
      " [ 1.2717562   0.37769744]\n",
      " [-1.35577892  0.84900847]\n",
      " [ 1.69784298  0.71175856]\n",
      " [ 1.48479959  0.60817371]\n",
      " [ 1.48479959  0.63665955]\n",
      " [ 0.49059711 -0.41213698]\n",
      " [ 0.34856819 -0.28265593]\n",
      " [-0.14853305  1.04323005]\n",
      " [ 1.55581405  1.68027683]\n",
      " [ 1.20074174  0.39064555]\n",
      " [ 0.27755372  1.64402213]\n",
      " [-1.21374999 -1.47906085]\n",
      " [ 0.41958265 -0.33444835]\n",
      " [ 0.27755372  1.55597502]\n",
      " [-0.36157644  0.97072066]\n",
      " [-0.92969214 -1.14758936]\n",
      " [-0.92969214 -1.30555624]\n",
      " [ 1.41378513  0.51235774]\n",
      " [-0.64563429  1.43167321]\n",
      " [-0.50360537 -0.562335  ]\n",
      " [ 1.12972727  0.14463155]\n",
      " [-1.00070661  0.913749  ]\n",
      " [ 0.41958265 -0.16353336]\n",
      " [-0.36157644 -0.91711309]\n",
      " [-0.50360537 -0.77468393]\n",
      " [ 1.12972727  1.58446085]\n",
      " [ 0.34856819  1.49382411]\n",
      " [-0.57461983 -0.73583961]\n",
      " [ 1.20074174  0.21196169]\n",
      " [-1.14273553 -1.54898062]\n",
      " [-0.21954752 -0.72548113]\n",
      " [-0.78766322 -0.96890551]\n",
      " [-0.21954752  1.46274866]\n",
      " [ 0.20653926  1.34103647]\n",
      " [-0.85867768 -1.16571671]\n",
      " [ 1.20074174  0.19383435]\n",
      " [-0.78766322 -1.12428277]\n",
      " [ 1.34277066  0.45020683]\n",
      " [ 1.48479959  1.71912115]\n",
      " [ 1.05871281  0.52530584]\n",
      " [-0.64563429 -0.98444323]\n",
      " [ 0.63262604 -0.02369382]\n",
      " [-1.49780784  1.35139496]\n",
      " [ 1.2717562   1.70358342]\n",
      " [ 0.20653926 -0.28524555]\n",
      " [-1.35577892 -1.51531555]\n",
      " [ 0.77465496 -0.1687126 ]\n",
      " [ 1.41378513  0.51494736]\n",
      " [ 0.49059711 -0.0081561 ]\n",
      " [ 0.27755372  1.57928161]\n",
      " [ 0.91668389  0.11096647]\n",
      " [ 1.76885744  0.75578211]\n",
      " [-0.64563429 -0.70735378]\n",
      " [ 0.34856819 -0.30596252]\n",
      " [-0.71664876 -0.81870749]\n",
      " [ 0.56161157  1.15717338]\n",
      " [ 0.41958265  1.07171588]\n",
      " [ 1.48479959  1.69322493]\n",
      " [-1.28476446 -1.51790517]\n",
      " [ 0.34856819 -0.2179154 ]\n",
      " [-1.49780784 -1.58005607]\n",
      " [-0.07751859 -0.62707553]\n",
      " [ 0.84566942 -0.00297685]\n",
      " [ 0.20653926  1.11573944]\n",
      " [-0.36157644  1.39800813]\n",
      " [ 0.20653926  1.00179611]\n",
      " [ 0.77465496  0.12909382]\n",
      " [ 0.98769835  1.14940451]\n",
      " [-1.14273553 -1.27448079]\n",
      " [-1.35577892 -1.39619298]\n",
      " [ 1.12972727  0.20160321]\n",
      " [ 0.7036405  -0.00556648]\n",
      " [ 1.05871281  0.175707  ]\n",
      " [-0.36157644 -0.82129711]\n",
      " [ 1.76885744  0.75319249]\n",
      " [ 1.41378513  1.28665443]\n",
      " [-1.14273553  0.77649908]\n",
      " [-1.42679338 -1.64997584]\n",
      " [ 1.05871281  1.22450352]\n",
      " [-0.07751859 -0.5131322 ]\n",
      " [-0.85867768  1.50936184]\n",
      " [ 0.84566942  0.10837685]\n",
      " [-1.49780784 -1.5826457 ]\n",
      " [-1.42679338 -1.2874289 ]\n",
      " [ 0.06451033 -0.52090106]\n",
      " [-1.21374999 -1.31591473]\n",
      " [-1.49780784 -1.58523532]\n",
      " [ 0.77465496  0.28447108]\n",
      " [ 0.56161157  0.13168344]\n",
      " [-0.85867768 -0.83424521]\n",
      " [ 1.62682851  0.60558409]\n",
      " [ 1.48479959  1.29960253]\n",
      " [ 0.84566942  0.00479201]\n",
      " [-0.50360537 -0.9067546 ]\n",
      " [-1.07172107  0.88526317]\n",
      " [-1.42679338  0.70140007]\n",
      " [-0.57461983 -0.60635856]\n",
      " [-0.57461983 -0.93783005]\n",
      " [-1.49780784 -1.62925887]\n",
      " [-0.85867768 -1.02328755]\n",
      " [-0.78766322 -0.9430093 ]\n",
      " [ 0.27755372 -0.19201919]\n",
      " [-1.07172107 -1.49459858]\n",
      " [-0.85867768 -0.98703285]\n",
      " [-1.00070661 -0.91970271]\n",
      " [-0.78766322 -0.95077816]\n",
      " [-0.00650413 -0.60376894]\n",
      " [ 1.41378513  1.3203195 ]\n",
      " [-1.49780784 -1.59300418]\n",
      " [ 0.91668389  0.30000881]\n",
      " [-0.14853305 -0.46133978]\n",
      " [ 1.2717562   0.33108426]\n",
      " [-0.85867768 -1.34181094]\n",
      " [-0.36157644  1.2711167 ]\n",
      " [ 1.62682851  1.28406481]\n",
      " [-1.21374999 -1.40137222]\n",
      " [-1.28476446 -1.32368359]\n",
      " [ 1.76885744  0.79721605]\n",
      " [ 0.7036405   0.16534851]\n",
      " [ 0.77465496  1.55856464]\n",
      " [-0.92969214 -1.04400452]\n",
      " [-0.21954752 -0.6969953 ]\n",
      " [ 0.63262604  1.07689512]\n",
      " [-1.00070661 -1.33404207]\n",
      " [-1.07172107 -1.50754669]\n",
      " [-0.14853305 -0.53902841]\n",
      " [-0.4325909  -0.51572182]\n",
      " [-0.71664876 -1.02587717]\n",
      " [-0.57461983 -0.98962247]\n",
      " [ 1.05871281  0.36474934]\n",
      " [ 1.76885744  1.66732872]\n",
      " [ 1.12972727  0.50458887]\n",
      " [-0.57461983  0.98366877]\n",
      " [-0.71664876 -0.94818854]\n",
      " [ 0.56161157  1.59481933]\n",
      " [-1.00070661  1.14681489]\n",
      " [ 0.91668389 -0.04182117]\n",
      " [-0.29056198 -0.65556136]\n",
      " [-1.49780784 -1.70694751]\n",
      " [ 0.63262604 -0.09879283]\n",
      " [ 1.62682851  0.73247552]\n",
      " [-0.78766322 -0.74101885]\n",
      " [-1.14273553  0.22749942]\n",
      " [ 0.1355248  -0.57269349]\n",
      " [-1.07172107 -1.51013631]\n",
      " [-0.21954752 -0.47687751]\n",
      " [-0.4325909  -0.73324999]\n",
      " [ 1.41378513  0.72729628]\n",
      " [-0.14853305 -0.44580205]\n",
      " [-0.36157644 -0.58823121]\n",
      " [-0.00650413 -0.25675972]\n",
      " [ 0.63262604 -0.20237768]\n",
      " [-1.00070661 -1.19679216]\n",
      " [ 1.34277066  0.42948986]\n",
      " [ 1.76885744  0.74024439]\n",
      " [ 1.20074174  0.50199925]\n",
      " [ 1.34277066  0.41913138]\n",
      " [-0.07751859 -0.49241523]\n",
      " [-1.00070661 -1.45575426]\n",
      " [-1.49780784 -1.72507485]\n",
      " [ 0.49059711 -0.18425033]\n",
      " [ 1.41378513  0.49940963]\n",
      " [-1.49780784 -0.90416498]\n",
      " [-0.50360537  0.90598013]\n",
      " [ 0.1355248  -0.44839167]\n",
      " [ 0.63262604  0.01774011]\n",
      " [-1.07172107  1.36434306]\n",
      " [-0.07751859 -0.61671704]\n",
      " [ 0.98769835  0.39582479]\n",
      " [-0.07751859 -0.72289151]\n",
      " [-1.35577892  1.45239018]\n",
      " [ 0.1355248  -0.34480683]\n",
      " [ 0.27755372 -0.36034456]\n",
      " [ 0.27755372 -0.17907109]\n",
      " [ 0.98769835  0.18347586]\n",
      " [-1.28476446 -1.17607519]\n",
      " [ 0.27755372 -0.28783517]\n",
      " [-1.21374999 -1.28483927]\n",
      " [ 0.1355248  -0.4509813 ]\n",
      " [-0.64563429  1.00438573]\n",
      " [ 1.69784298  1.67768721]\n",
      " [-0.92969214 -1.0414149 ]\n",
      " [-1.00070661 -1.18643367]\n",
      " [-1.49780784 -0.36293418]\n",
      " [-1.49780784 -1.60336266]\n",
      " [ 0.41958265 -0.32667949]\n",
      " [-1.49780784 -1.6447966 ]\n",
      " [-1.00070661 -0.83165559]\n",
      " [-0.85867768 -1.11910353]\n",
      " [ 0.41958265 -0.1195098 ]\n",
      " [ 0.77465496  1.19083845]\n",
      " [ 1.62682851  1.64143251]\n",
      " [ 1.62682851  0.81016416]\n",
      " [ 0.1355248  -0.48723599]\n",
      " [ 1.2717562   1.05358853]\n",
      " [-0.64563429  1.54820616]\n",
      " [ 0.49059711  0.02291936]]\n"
     ]
    }
   ],
   "source": [
    "print(x_test)"
   ]
  },
  {
   "cell_type": "code",
   "execution_count": 114,
   "id": "3693b411",
   "metadata": {},
   "outputs": [
    {
     "name": "stdout",
     "output_type": "stream",
     "text": [
      "[[-0.14853305  1.53525805]\n",
      " [-1.49780784 -1.71471637]\n",
      " [-1.14273553  1.48087601]\n",
      " ...\n",
      " [ 0.06451033 -0.71253302]\n",
      " [-1.42679338 -1.61890039]\n",
      " [-0.4325909  -0.84978294]]\n"
     ]
    }
   ],
   "source": [
    "print(x_train)"
   ]
  },
  {
   "cell_type": "code",
   "execution_count": 115,
   "id": "5d94b0b9",
   "metadata": {},
   "outputs": [],
   "source": [
    "from sklearn.linear_model import LogisticRegression"
   ]
  },
  {
   "cell_type": "code",
   "execution_count": 116,
   "id": "cebfe1b4",
   "metadata": {},
   "outputs": [],
   "source": [
    "linear_model = LogisticRegression(random_state = 0)"
   ]
  },
  {
   "cell_type": "code",
   "execution_count": 117,
   "id": "3506d537",
   "metadata": {},
   "outputs": [
    {
     "data": {
      "text/plain": [
       "LogisticRegression(random_state=0)"
      ]
     },
     "execution_count": 117,
     "metadata": {},
     "output_type": "execute_result"
    }
   ],
   "source": [
    "linear_model.fit(x_train,y_train)"
   ]
  },
  {
   "cell_type": "code",
   "execution_count": 118,
   "id": "72ac5697",
   "metadata": {},
   "outputs": [],
   "source": [
    "y_pred = linear_model.predict(x_test)"
   ]
  },
  {
   "cell_type": "code",
   "execution_count": 119,
   "id": "19298eb0",
   "metadata": {},
   "outputs": [],
   "source": [
    "from sklearn.metrics import confusion_matrix , accuracy_score\n",
    "cm = confusion_matrix(y_test,y_pred)"
   ]
  },
  {
   "cell_type": "code",
   "execution_count": 120,
   "id": "a4940931",
   "metadata": {},
   "outputs": [
    {
     "name": "stdout",
     "output_type": "stream",
     "text": [
      "[[210   0]\n",
      " [  1  57]]\n"
     ]
    }
   ],
   "source": [
    "print(cm)"
   ]
  },
  {
   "cell_type": "code",
   "execution_count": 121,
   "id": "4f86e842",
   "metadata": {},
   "outputs": [
    {
     "data": {
      "text/plain": [
       "268"
      ]
     },
     "execution_count": 121,
     "metadata": {},
     "output_type": "execute_result"
    }
   ],
   "source": [
    "len(y_test)"
   ]
  },
  {
   "cell_type": "code",
   "execution_count": 122,
   "id": "ebcbee85",
   "metadata": {},
   "outputs": [],
   "source": [
    "score = accuracy_score(y_test,y_pred)"
   ]
  },
  {
   "cell_type": "code",
   "execution_count": 123,
   "id": "cdab8e8a",
   "metadata": {},
   "outputs": [
    {
     "name": "stdout",
     "output_type": "stream",
     "text": [
      "0.996268656716418\n"
     ]
    }
   ],
   "source": [
    "print(score)"
   ]
  },
  {
   "cell_type": "code",
   "execution_count": 124,
   "id": "f5d8247d",
   "metadata": {},
   "outputs": [],
   "source": [
    "auc_score = roc_auc_score(y_test,y_pred)"
   ]
  },
  {
   "cell_type": "code",
   "execution_count": 125,
   "id": "a619de4e",
   "metadata": {},
   "outputs": [],
   "source": [
    "fpr, tpr, thresholds = roc_curve(y_test,y_pred)"
   ]
  },
  {
   "cell_type": "code",
   "execution_count": 126,
   "id": "79246de6",
   "metadata": {},
   "outputs": [
    {
     "data": {
      "image/png": "[encoded data removed]",
      "text/plain": [
       "<Figure size 640x480 with 1 Axes>"
      ]
     },
     "metadata": {},
     "output_type": "display_data"
    }
   ],
   "source": [
    "c"
   ]
  },
  {
   "cell_type": "code",
   "execution_count": null,
   "id": "6cb683bf",
   "metadata": {},
   "outputs": [],
   "source": [
    "auc_score = roc_auc_score(y_test,y_pred)\n",
    "fpr, tpr, thresholds = roc_curve(y_test,y_pred)\n",
    "plt.plot(fpr, tpr, label='ROC curve (AUC = %0.2f)' % auc_score)\n",
    "plt.plot([0, 1], [0, 1], 'k--')  # Plotting the diagonal line for reference\n",
    "plt.xlim([0.0, 1.0])\n",
    "plt.ylim([0.0, 1.05])\n",
    "plt.xlabel('False Positive Rate (FPR)')\n",
    "plt.ylabel('True Positive Rate (TPR)')\n",
    "plt.title('Receiver Operating Characteristic (ROC) Curve')\n",
    "plt.legend(loc='lower right')\n",
    "plt.show()"
   ]
  },
  {
   "cell_type": "code",
   "execution_count": null,
   "id": "fccd58b9",
   "metadata": {},
   "outputs": [],
   "source": []
  },
  {
   "cell_type": "code",
   "execution_count": 37,
   "id": "3fab73a5",
   "metadata": {},
   "outputs": [],
   "source": [
    "from matplotlib.colors import ListedColormap"
   ]
  },
  {
   "cell_type": "code",
   "execution_count": 44,
   "id": "7a840b36",
   "metadata": {},
   "outputs": [],
   "source": [
    "import matplotlib.pyplot as mtp "
   ]
  },
  {
   "cell_type": "code",
   "execution_count": 38,
   "id": "bf2acb10",
   "metadata": {},
   "outputs": [],
   "source": [
    "x_set,y_set = x_train,y_train"
   ]
  },
  {
   "cell_type": "code",
   "execution_count": 49,
   "id": "a2ef48ce",
   "metadata": {},
   "outputs": [
    {
     "name": "stderr",
     "output_type": "stream",
     "text": [
      "*c* argument looks like a single numeric RGB or RGBA sequence, which should be avoided as value-mapping will have precedence in case its length matches with *x* & *y*.  Please use the *color* keyword-argument or provide a 2D array with a single row if you intend to specify the same RGB or RGBA value for all points.\n",
      "*c* argument looks like a single numeric RGB or RGBA sequence, which should be avoided as value-mapping will have precedence in case its length matches with *x* & *y*.  Please use the *color* keyword-argument or provide a 2D array with a single row if you intend to specify the same RGB or RGBA value for all points.\n"
     ]
    },
    {
     "data": {
      "image/png": "[encoded data removed]",
      "text/plain": [
       "<Figure size 640x480 with 1 Axes>"
      ]
     },
     "metadata": {},
     "output_type": "display_data"
    }
   ],
   "source": [
    "\n",
    "x_set,y_set = x_train,y_train\n",
    "x1, x2 = np.meshgrid(np.arange(start = x_set[:, 0].min() - 1, stop = x_set[:, 0].max() + 1, step  =0.01),  \n",
    "np.arange(start = x_set[:, 1].min() - 1, stop = x_set[:, 1].max() + 1, step = 0.01))  \n",
    "mtp.contourf(x1, x2, linear_model.predict(np.array([x1.ravel(), x2.ravel()]).T).reshape(x1.shape),  \n",
    "alpha = 0.75, cmap = ListedColormap(('blue','red' )))  \n",
    "mtp.xlim(x1.min(), x1.max())  \n",
    "mtp.ylim(x2.min(), x2.max())  \n",
    "for i, j in enumerate(np.unique(y_set)):  \n",
    "    mtp.scatter(x_set[y_set == j, 0], x_set[y_set == j, 1],  \n",
    "        c = ListedColormap(('blue', 'red'))(i), label = j)  \n",
    "mtp.title('Logistic Regression (Test set)')  \n",
    "mtp.xlabel('Age')  \n",
    "mtp.ylabel('Estimated Salary')  \n",
    "mtp.legend()  \n",
    "mtp.show()  "
   ]
  },
  {
   "cell_type": "code",
   "execution_count": null,
   "id": "05c9fffd",
   "metadata": {},
   "outputs": [],
   "source": []
  },
  {
   "cell_type": "code",
   "execution_count": null,
   "id": "57f8e325",
   "metadata": {},
   "outputs": [],
   "source": []
  },
  {
   "cell_type": "code",
   "execution_count": null,
   "id": "476e355f",
   "metadata": {},
   "outputs": [],
   "source": []
  },
  {
   "cell_type": "code",
   "execution_count": null,
   "id": "095cc337",
   "metadata": {},
   "outputs": [],
   "source": []
  },
  {
   "cell_type": "code",
   "execution_count": 29,
   "id": "cae1f261",
   "metadata": {},
   "outputs": [
    {
     "name": "stdout",
     "output_type": "stream",
     "text": [
      "[1]\n"
     ]
    }
   ],
   "source": [
    "print(linear_model.predict(scaler.transform([[30,87000]])))"
   ]
  },
  {
   "cell_type": "code",
   "execution_count": 30,
   "id": "43205858",
   "metadata": {},
   "outputs": [
    {
     "name": "stdout",
     "output_type": "stream",
     "text": [
      "[0]\n"
     ]
    }
   ],
   "source": [
    "print(linear_model.predict(scaler.transform([[40,0]])))"
   ]
  },
  {
   "cell_type": "code",
   "execution_count": 31,
   "id": "85d34fd5",
   "metadata": {},
   "outputs": [
    {
     "name": "stdout",
     "output_type": "stream",
     "text": [
      "[1]\n"
     ]
    }
   ],
   "source": [
    "print(linear_model.predict(scaler.transform([[40,100000]])))"
   ]
  },
  {
   "cell_type": "code",
   "execution_count": 32,
   "id": "36d6e5bb",
   "metadata": {},
   "outputs": [
    {
     "name": "stdout",
     "output_type": "stream",
     "text": [
      "[0]\n"
     ]
    }
   ],
   "source": [
    "print(linear_model.predict(scaler.transform([[50,0]])))"
   ]
  },
  {
   "cell_type": "code",
   "execution_count": 33,
   "id": "55d28333",
   "metadata": {},
   "outputs": [],
   "source": [
    "#HOMEWORK"
   ]
  },
  {
   "cell_type": "code",
   "execution_count": 34,
   "id": "3b9a47ed",
   "metadata": {},
   "outputs": [
    {
     "name": "stdout",
     "output_type": "stream",
     "text": [
      "[1]\n"
     ]
    }
   ],
   "source": [
    "print(linear_model.predict(scaler.transform([[22,600000]])))"
   ]
  },
  {
   "cell_type": "code",
   "execution_count": 35,
   "id": "38f820cb",
   "metadata": {},
   "outputs": [
    {
     "name": "stdout",
     "output_type": "stream",
     "text": [
      "[1]\n"
     ]
    }
   ],
   "source": [
    "print(linear_model.predict(scaler.transform([[35,2500000]])))"
   ]
  },
  {
   "cell_type": "code",
   "execution_count": 36,
   "id": "252d8e07",
   "metadata": {},
   "outputs": [
    {
     "name": "stdout",
     "output_type": "stream",
     "text": [
      "[1]\n"
     ]
    }
   ],
   "source": [
    "print(linear_model.predict(scaler.transform([[60,10000000]])))"
   ]
  },
  {
   "cell_type": "code",
   "execution_count": 37,
   "id": "4f77e443",
   "metadata": {},
   "outputs": [],
   "source": [
    "#KNN_K-Nearest Neighbors Algorithm"
   ]
  },
  {
   "cell_type": "code",
   "execution_count": 128,
   "id": "1ddb7e8f",
   "metadata": {},
   "outputs": [],
   "source": [
    "from sklearn.neighbors import KNeighborsClassifier"
   ]
  },
  {
   "cell_type": "code",
   "execution_count": 129,
   "id": "4082ba21",
   "metadata": {},
   "outputs": [],
   "source": [
    "knn_model = KNeighborsClassifier(n_neighbors = 5 , metric = \"minkowski\" , p = 2)"
   ]
  },
  {
   "cell_type": "code",
   "execution_count": 130,
   "id": "7ca05d13",
   "metadata": {},
   "outputs": [
    {
     "data": {
      "text/plain": [
       "KNeighborsClassifier()"
      ]
     },
     "execution_count": 130,
     "metadata": {},
     "output_type": "execute_result"
    }
   ],
   "source": [
    "knn_model.fit(x_train,y_train)"
   ]
  },
  {
   "cell_type": "code",
   "execution_count": 131,
   "id": "271670a1",
   "metadata": {},
   "outputs": [
    {
     "name": "stderr",
     "output_type": "stream",
     "text": [
      "C:\\Users\\GIRIPRASATH\\anaconda3\\anaconda\\lib\\site-packages\\sklearn\\neighbors\\_classification.py:228: FutureWarning: Unlike other reduction functions (e.g. `skew`, `kurtosis`), the default behavior of `mode` typically preserves the axis it acts along. In SciPy 1.11.0, this behavior will change: the default value of `keepdims` will become False, the `axis` over which the statistic is taken will be eliminated, and the value None will no longer be accepted. Set `keepdims` to True or False to avoid this warning.\n",
      "  mode, _ = stats.mode(_y[neigh_ind, k], axis=1)\n"
     ]
    }
   ],
   "source": [
    "y_pred = knn_model.predict(x_test)"
   ]
  },
  {
   "cell_type": "code",
   "execution_count": 138,
   "id": "9dcb9fa5",
   "metadata": {},
   "outputs": [
    {
     "name": "stdout",
     "output_type": "stream",
     "text": [
      "[0 0 1 0 0 0 0 0 0 0 0 0 0 0 0 0 0 0 0 1 1 0 1 1 0 0 0 0 0 0 0 1 0 1 0 0 0\n",
      " 1 1 0 0 0 1 1 1 1 1 0 0 1 0 0 1 1 1 0 0 0 0 0 0 1 0 0 0 0 1 1 0 0 0 0 0 0\n",
      " 0 0 0 0 0 1 0 1 0 0 1 0 0 0 0 1 0 0 0 0 0 0 1 1 0 0 0 0 0 1 1 0 0 0 0 1 0\n",
      " 0 0 1 1 0 0 0 0 0 1 0 0 0 0 0 1 1 1 0 0 0 0 0 1 1 0 0 1 0 0 0 0 0 0 0 1 0\n",
      " 0 1 0 1 0 0 0 0 0 0 0 0 0 0 1 0 0 0 0 0 0 0 0 0 0 0 0 0 0 0 1 0 0 0 0 0 1\n",
      " 1 0 0 0 0 1 0 0 1 0 0 0 0 0 0 0 1 0 0 0 1 1 0 0 0 0 0 0 0 0 0 0 0 0 0 0 0\n",
      " 0 0 0 0 0 0 0 0 0 0 0 0 0 0 0 1 0 0 0 1 0 0 0 0 0 0 0 0 0 1 0 0 0 0 0 0 0\n",
      " 0 0 1 1 0 0 1 1 0]\n"
     ]
    }
   ],
   "source": [
    "print(y_pred)"
   ]
  },
  {
   "cell_type": "code",
   "execution_count": 139,
   "id": "41b28101",
   "metadata": {},
   "outputs": [],
   "source": [
    "score_KNN = accuracy_score(y_test,y_pred)"
   ]
  },
  {
   "cell_type": "code",
   "execution_count": 140,
   "id": "d4b2bb32",
   "metadata": {},
   "outputs": [
    {
     "name": "stdout",
     "output_type": "stream",
     "text": [
      "0.9925373134328358\n"
     ]
    }
   ],
   "source": [
    "print(score_KNN)"
   ]
  },
  {
   "cell_type": "code",
   "execution_count": 141,
   "id": "0f79a9f9",
   "metadata": {},
   "outputs": [],
   "source": [
    "matrix_knn = confusion_matrix(y_test,y_pred)"
   ]
  },
  {
   "cell_type": "code",
   "execution_count": 142,
   "id": "82971001",
   "metadata": {},
   "outputs": [
    {
     "name": "stdout",
     "output_type": "stream",
     "text": [
      "[[209   1]\n",
      " [  1  57]]\n"
     ]
    }
   ],
   "source": [
    "print(matrix_knn)"
   ]
  },
  {
   "cell_type": "code",
   "execution_count": 143,
   "id": "8f8e5ef7",
   "metadata": {},
   "outputs": [
    {
     "data": {
      "image/png": "[encoded data removed]",
      "text/plain": [
       "<Figure size 640x480 with 1 Axes>"
      ]
     },
     "metadata": {},
     "output_type": "display_data"
    }
   ],
   "source": [
    "auc_score = roc_auc_score(y_test,y_pred)\n",
    "fpr, tpr, thresholds = roc_curve(y_test,y_pred)\n",
    "plt.plot(fpr, tpr, label='ROC curve (AUC = %0.2f)' % auc_score)\n",
    "plt.plot([0, 1], [0, 1], 'k--')  # Plotting the diagonal line for reference\n",
    "plt.xlim([0.0, 1.0])\n",
    "plt.ylim([0.0, 1.05])\n",
    "plt.xlabel('False Positive Rate (FPR)')\n",
    "plt.ylabel('True Positive Rate (TPR)')\n",
    "plt.title('Receiver Operating Characteristic (ROC) Curve')\n",
    "plt.legend(loc='lower right')\n",
    "plt.show()"
   ]
  },
  {
   "cell_type": "code",
   "execution_count": 83,
   "id": "051299a8",
   "metadata": {},
   "outputs": [
    {
     "name": "stderr",
     "output_type": "stream",
     "text": [
      "C:\\Users\\GIRIPRASATH\\anaconda3\\anaconda\\lib\\site-packages\\sklearn\\neighbors\\_classification.py:228: FutureWarning: Unlike other reduction functions (e.g. `skew`, `kurtosis`), the default behavior of `mode` typically preserves the axis it acts along. In SciPy 1.11.0, this behavior will change: the default value of `keepdims` will become False, the `axis` over which the statistic is taken will be eliminated, and the value None will no longer be accepted. Set `keepdims` to True or False to avoid this warning.\n",
      "  mode, _ = stats.mode(_y[neigh_ind, k], axis=1)\n",
      "*c* argument looks like a single numeric RGB or RGBA sequence, which should be avoided as value-mapping will have precedence in case its length matches with *x* & *y*.  Please use the *color* keyword-argument or provide a 2D array with a single row if you intend to specify the same RGB or RGBA value for all points.\n",
      "*c* argument looks like a single numeric RGB or RGBA sequence, which should be avoided as value-mapping will have precedence in case its length matches with *x* & *y*.  Please use the *color* keyword-argument or provide a 2D array with a single row if you intend to specify the same RGB or RGBA value for all points.\n"
     ]
    },
    {
     "data": {
      "image/png": "[encoded data removed]",
      "text/plain": [
       "<Figure size 640x480 with 1 Axes>"
      ]
     },
     "metadata": {},
     "output_type": "display_data"
    }
   ],
   "source": [
    "x_set,y_set = x_train,y_train\n",
    "x1, x2 = np.meshgrid(np.arange(start = x_set[:, 0].min() - 1, stop = x_set[:, 0].max() + 1, step  =0.01),  \n",
    "np.arange(start = x_set[:, 1].min() - 1, stop = x_set[:, 1].max() + 1, step = 0.01))  \n",
    "mtp.contourf(x1, x2, knn_model.predict(np.array([x1.ravel(), x2.ravel()]).T).reshape(x1.shape),  \n",
    "alpha = 0.75, cmap = ListedColormap(('blue','red' )))  \n",
    "mtp.xlim(x1.min(), x1.max())  \n",
    "mtp.ylim(x2.min(), x2.max())  \n",
    "for i, j in enumerate(np.unique(y_set)):  \n",
    "    mtp.scatter(x_set[y_set == j, 0], x_set[y_set == j, 1],  \n",
    "        c = ListedColormap(('blue', 'red'))(i), label = j)  \n",
    "mtp.title('KNeighborsClassifier (Test set)')  \n",
    "mtp.xlabel('Age')  \n",
    "mtp.ylabel('Estimated Salary')  \n",
    "mtp.legend()  \n",
    "mtp.show()  "
   ]
  },
  {
   "cell_type": "code",
   "execution_count": 47,
   "id": "3f08aac7",
   "metadata": {},
   "outputs": [
    {
     "name": "stdout",
     "output_type": "stream",
     "text": [
      "[1]\n"
     ]
    },
    {
     "name": "stderr",
     "output_type": "stream",
     "text": [
      "C:\\Users\\GIRIPRASATH\\anaconda3\\anaconda\\lib\\site-packages\\sklearn\\neighbors\\_classification.py:228: FutureWarning: Unlike other reduction functions (e.g. `skew`, `kurtosis`), the default behavior of `mode` typically preserves the axis it acts along. In SciPy 1.11.0, this behavior will change: the default value of `keepdims` will become False, the `axis` over which the statistic is taken will be eliminated, and the value None will no longer be accepted. Set `keepdims` to True or False to avoid this warning.\n",
      "  mode, _ = stats.mode(_y[neigh_ind, k], axis=1)\n"
     ]
    }
   ],
   "source": [
    "print(knn_model.predict(scaler.transform([[30,67000]])))"
   ]
  },
  {
   "cell_type": "code",
   "execution_count": 48,
   "id": "39b80780",
   "metadata": {},
   "outputs": [
    {
     "name": "stdout",
     "output_type": "stream",
     "text": [
      "[0]\n"
     ]
    },
    {
     "name": "stderr",
     "output_type": "stream",
     "text": [
      "C:\\Users\\GIRIPRASATH\\anaconda3\\anaconda\\lib\\site-packages\\sklearn\\neighbors\\_classification.py:228: FutureWarning: Unlike other reduction functions (e.g. `skew`, `kurtosis`), the default behavior of `mode` typically preserves the axis it acts along. In SciPy 1.11.0, this behavior will change: the default value of `keepdims` will become False, the `axis` over which the statistic is taken will be eliminated, and the value None will no longer be accepted. Set `keepdims` to True or False to avoid this warning.\n",
      "  mode, _ = stats.mode(_y[neigh_ind, k], axis=1)\n"
     ]
    }
   ],
   "source": [
    "print(knn_model.predict(scaler.transform([[40,0]])))"
   ]
  },
  {
   "cell_type": "code",
   "execution_count": 49,
   "id": "7983e043",
   "metadata": {},
   "outputs": [
    {
     "name": "stdout",
     "output_type": "stream",
     "text": [
      "[1]\n"
     ]
    },
    {
     "name": "stderr",
     "output_type": "stream",
     "text": [
      "C:\\Users\\GIRIPRASATH\\anaconda3\\anaconda\\lib\\site-packages\\sklearn\\neighbors\\_classification.py:228: FutureWarning: Unlike other reduction functions (e.g. `skew`, `kurtosis`), the default behavior of `mode` typically preserves the axis it acts along. In SciPy 1.11.0, this behavior will change: the default value of `keepdims` will become False, the `axis` over which the statistic is taken will be eliminated, and the value None will no longer be accepted. Set `keepdims` to True or False to avoid this warning.\n",
      "  mode, _ = stats.mode(_y[neigh_ind, k], axis=1)\n"
     ]
    }
   ],
   "source": [
    "print(knn_model.predict(scaler.transform([[40,100000]])))"
   ]
  },
  {
   "cell_type": "code",
   "execution_count": 50,
   "id": "1f3c9e41",
   "metadata": {},
   "outputs": [
    {
     "name": "stdout",
     "output_type": "stream",
     "text": [
      "[0]\n"
     ]
    },
    {
     "name": "stderr",
     "output_type": "stream",
     "text": [
      "C:\\Users\\GIRIPRASATH\\anaconda3\\anaconda\\lib\\site-packages\\sklearn\\neighbors\\_classification.py:228: FutureWarning: Unlike other reduction functions (e.g. `skew`, `kurtosis`), the default behavior of `mode` typically preserves the axis it acts along. In SciPy 1.11.0, this behavior will change: the default value of `keepdims` will become False, the `axis` over which the statistic is taken will be eliminated, and the value None will no longer be accepted. Set `keepdims` to True or False to avoid this warning.\n",
      "  mode, _ = stats.mode(_y[neigh_ind, k], axis=1)\n"
     ]
    }
   ],
   "source": [
    "print(knn_model.predict(scaler.transform([[50,0]])))"
   ]
  },
  {
   "cell_type": "code",
   "execution_count": 51,
   "id": "91281b1e",
   "metadata": {},
   "outputs": [],
   "source": [
    "#HOMEWORK\n"
   ]
  },
  {
   "cell_type": "code",
   "execution_count": 52,
   "id": "587affb2",
   "metadata": {},
   "outputs": [
    {
     "name": "stdout",
     "output_type": "stream",
     "text": [
      "[1]\n"
     ]
    },
    {
     "name": "stderr",
     "output_type": "stream",
     "text": [
      "C:\\Users\\GIRIPRASATH\\anaconda3\\anaconda\\lib\\site-packages\\sklearn\\neighbors\\_classification.py:228: FutureWarning: Unlike other reduction functions (e.g. `skew`, `kurtosis`), the default behavior of `mode` typically preserves the axis it acts along. In SciPy 1.11.0, this behavior will change: the default value of `keepdims` will become False, the `axis` over which the statistic is taken will be eliminated, and the value None will no longer be accepted. Set `keepdims` to True or False to avoid this warning.\n",
      "  mode, _ = stats.mode(_y[neigh_ind, k], axis=1)\n"
     ]
    }
   ],
   "source": [
    "print(knn_model.predict(scaler.transform([[22,600000]])))"
   ]
  },
  {
   "cell_type": "code",
   "execution_count": 53,
   "id": "3707b4c3",
   "metadata": {},
   "outputs": [
    {
     "name": "stdout",
     "output_type": "stream",
     "text": [
      "[1]\n"
     ]
    },
    {
     "name": "stderr",
     "output_type": "stream",
     "text": [
      "C:\\Users\\GIRIPRASATH\\anaconda3\\anaconda\\lib\\site-packages\\sklearn\\neighbors\\_classification.py:228: FutureWarning: Unlike other reduction functions (e.g. `skew`, `kurtosis`), the default behavior of `mode` typically preserves the axis it acts along. In SciPy 1.11.0, this behavior will change: the default value of `keepdims` will become False, the `axis` over which the statistic is taken will be eliminated, and the value None will no longer be accepted. Set `keepdims` to True or False to avoid this warning.\n",
      "  mode, _ = stats.mode(_y[neigh_ind, k], axis=1)\n"
     ]
    }
   ],
   "source": [
    "print(knn_model.predict(scaler.transform([[35,2500000]])))"
   ]
  },
  {
   "cell_type": "code",
   "execution_count": 54,
   "id": "d9ecb990",
   "metadata": {},
   "outputs": [
    {
     "name": "stdout",
     "output_type": "stream",
     "text": [
      "[1]\n"
     ]
    },
    {
     "name": "stderr",
     "output_type": "stream",
     "text": [
      "C:\\Users\\GIRIPRASATH\\anaconda3\\anaconda\\lib\\site-packages\\sklearn\\neighbors\\_classification.py:228: FutureWarning: Unlike other reduction functions (e.g. `skew`, `kurtosis`), the default behavior of `mode` typically preserves the axis it acts along. In SciPy 1.11.0, this behavior will change: the default value of `keepdims` will become False, the `axis` over which the statistic is taken will be eliminated, and the value None will no longer be accepted. Set `keepdims` to True or False to avoid this warning.\n",
      "  mode, _ = stats.mode(_y[neigh_ind, k], axis=1)\n"
     ]
    }
   ],
   "source": [
    "print(knn_model.predict(scaler.transform([[60,10000000]])))"
   ]
  },
  {
   "cell_type": "code",
   "execution_count": 55,
   "id": "27c22248",
   "metadata": {},
   "outputs": [],
   "source": [
    "#support-vesctor-machine"
   ]
  },
  {
   "cell_type": "code",
   "execution_count": 154,
   "id": "2c7c878f",
   "metadata": {},
   "outputs": [],
   "source": [
    "from sklearn.svm import SVC"
   ]
  },
  {
   "cell_type": "code",
   "execution_count": 155,
   "id": "464f62f9",
   "metadata": {},
   "outputs": [],
   "source": [
    "svc_model = SVC(kernel = 'linear', random_state = 0)"
   ]
  },
  {
   "cell_type": "code",
   "execution_count": 156,
   "id": "e06344d1",
   "metadata": {},
   "outputs": [
    {
     "data": {
      "text/plain": [
       "SVC(kernel='linear', random_state=0)"
      ]
     },
     "execution_count": 156,
     "metadata": {},
     "output_type": "execute_result"
    }
   ],
   "source": [
    "svc_model.fit(x_train,y_train)"
   ]
  },
  {
   "cell_type": "code",
   "execution_count": 157,
   "id": "f6b17f13",
   "metadata": {},
   "outputs": [],
   "source": [
    "y_pred = svc_model.predict(x_test)"
   ]
  },
  {
   "cell_type": "code",
   "execution_count": 158,
   "id": "d44766e7",
   "metadata": {},
   "outputs": [
    {
     "name": "stdout",
     "output_type": "stream",
     "text": [
      "[0 0 1 0 0 0 0 0 0 0 0 0 0 0 0 0 0 0 0 1 1 0 1 1 0 0 0 0 0 0 0 1 0 1 0 0 0\n",
      " 1 1 0 0 0 0 1 1 1 1 0 0 1 0 0 1 1 1 0 0 0 0 0 0 1 0 0 0 0 1 1 0 0 0 0 0 0\n",
      " 0 0 0 0 1 1 0 1 0 0 1 0 0 0 0 1 0 0 0 0 0 0 1 1 0 0 0 0 0 1 1 0 0 0 0 1 0\n",
      " 0 0 1 1 0 0 0 0 0 1 0 0 0 0 0 1 1 1 0 0 0 0 0 1 1 0 0 1 0 0 0 0 0 0 0 1 0\n",
      " 0 1 0 1 0 0 0 0 0 0 0 0 0 0 1 0 0 0 0 0 0 0 0 0 0 0 0 0 0 0 1 0 0 0 0 0 1\n",
      " 1 0 0 0 0 1 0 0 1 0 0 0 0 0 0 0 1 0 0 0 1 1 0 0 0 0 0 0 0 0 0 0 0 0 0 0 0\n",
      " 0 0 0 0 0 0 0 0 0 0 0 0 0 0 0 1 0 0 0 1 0 0 0 0 0 0 0 0 0 1 0 0 0 0 0 0 0\n",
      " 0 0 1 1 0 0 1 1 0]\n"
     ]
    }
   ],
   "source": [
    "print(y_pred)"
   ]
  },
  {
   "cell_type": "code",
   "execution_count": 159,
   "id": "00492025",
   "metadata": {},
   "outputs": [],
   "source": [
    "svm_score = accuracy_score(y_test,y_pred)"
   ]
  },
  {
   "cell_type": "code",
   "execution_count": 160,
   "id": "840bf357",
   "metadata": {},
   "outputs": [
    {
     "name": "stdout",
     "output_type": "stream",
     "text": [
      "0.9925373134328358\n"
     ]
    }
   ],
   "source": [
    "print(svm_score)"
   ]
  },
  {
   "cell_type": "code",
   "execution_count": 161,
   "id": "007d4a77",
   "metadata": {},
   "outputs": [],
   "source": [
    "svm_matrix = confusion_matrix(y_test,y_pred)"
   ]
  },
  {
   "cell_type": "code",
   "execution_count": 162,
   "id": "af68478f",
   "metadata": {},
   "outputs": [
    {
     "name": "stdout",
     "output_type": "stream",
     "text": [
      "[[209   1]\n",
      " [  1  57]]\n"
     ]
    }
   ],
   "source": [
    "print(svm_matrix)"
   ]
  },
  {
   "cell_type": "code",
   "execution_count": 163,
   "id": "2906b103",
   "metadata": {},
   "outputs": [
    {
     "data": {
      "image/png": "[encoded data removed]",
      "text/plain": [
       "<Figure size 640x480 with 1 Axes>"
      ]
     },
     "metadata": {},
     "output_type": "display_data"
    }
   ],
   "source": [
    "auc_score = roc_auc_score(y_test,y_pred)\n",
    "fpr, tpr, thresholds = roc_curve(y_test,y_pred)\n",
    "plt.plot(fpr, tpr, label='ROC curve (AUC = %0.2f)' % auc_score)\n",
    "plt.plot([0, 1], [0, 1], 'k--')  # Plotting the diagonal line for reference\n",
    "plt.xlim([0.0, 1.0])\n",
    "plt.ylim([0.0, 1.05])\n",
    "plt.xlabel('False Positive Rate (FPR)')\n",
    "plt.ylabel('True Positive Rate (TPR)')\n",
    "plt.title('Receiver Operating Characteristic (ROC) Curve')\n",
    "plt.legend(loc='lower right')\n",
    "plt.show()"
   ]
  },
  {
   "cell_type": "code",
   "execution_count": 153,
   "id": "0c677d7e",
   "metadata": {},
   "outputs": [
    {
     "name": "stderr",
     "output_type": "stream",
     "text": [
      "*c* argument looks like a single numeric RGB or RGBA sequence, which should be avoided as value-mapping will have precedence in case its length matches with *x* & *y*.  Please use the *color* keyword-argument or provide a 2D array with a single row if you intend to specify the same RGB or RGBA value for all points.\n",
      "*c* argument looks like a single numeric RGB or RGBA sequence, which should be avoided as value-mapping will have precedence in case its length matches with *x* & *y*.  Please use the *color* keyword-argument or provide a 2D array with a single row if you intend to specify the same RGB or RGBA value for all points.\n"
     ]
    },
    {
     "data": {
      "image/png": "[encoded data removed]",
      "text/plain": [
       "<Figure size 640x480 with 1 Axes>"
      ]
     },
     "metadata": {},
     "output_type": "display_data"
    }
   ],
   "source": [
    "x_set,y_set = x_train,y_train\n",
    "x1, x2 = np.meshgrid(np.arange(start = x_set[:, 0].min() - 1, stop = x_set[:, 0].max() + 1, step  =0.01),  \n",
    "np.arange(start = x_set[:, 1].min() - 1, stop = x_set[:, 1].max() + 1, step = 0.01))  \n",
    "mtp.contourf(x1, x2, svc_model.predict(np.array([x1.ravel(), x2.ravel()]).T).reshape(x1.shape),  \n",
    "alpha = 0.75, cmap = ListedColormap(('blue','red' )))  \n",
    "mtp.xlim(x1.min(), x1.max())  \n",
    "mtp.ylim(x2.min(), x2.max())  \n",
    "for i, j in enumerate(np.unique(y_set)):  \n",
    "    mtp.scatter(x_set[y_set == j, 0], x_set[y_set == j, 1],  \n",
    "        c = ListedColormap(('blue', 'red'))(i), label = j)  \n",
    "mtp.title('SVC (Test set)')  \n",
    "mtp.xlabel('Age')  \n",
    "mtp.ylabel('Estimated Salary')  \n",
    "mtp.legend()  \n",
    "mtp.show()  "
   ]
  },
  {
   "cell_type": "code",
   "execution_count": 65,
   "id": "e73b0019",
   "metadata": {},
   "outputs": [],
   "source": [
    "#DECISION_TREE"
   ]
  },
  {
   "cell_type": "code",
   "execution_count": 164,
   "id": "dec08bc7",
   "metadata": {},
   "outputs": [],
   "source": [
    "DecisionTreefrom sklearn.tree import Classifier "
   ]
  },
  {
   "cell_type": "code",
   "execution_count": 165,
   "id": "d9ff46eb",
   "metadata": {},
   "outputs": [],
   "source": [
    "dtc = DecisionTreeClassifier(criterion ='entropy', random_state = 0)"
   ]
  },
  {
   "cell_type": "code",
   "execution_count": 166,
   "id": "7bc02552",
   "metadata": {},
   "outputs": [
    {
     "data": {
      "text/plain": [
       "DecisionTreeClassifier(criterion='entropy', random_state=0)"
      ]
     },
     "execution_count": 166,
     "metadata": {},
     "output_type": "execute_result"
    }
   ],
   "source": [
    "dtc.fit(x_train,y_train)"
   ]
  },
  {
   "cell_type": "code",
   "execution_count": 167,
   "id": "f97e5d33",
   "metadata": {},
   "outputs": [],
   "source": [
    "y_pred = dtc.predict(x_test)"
   ]
  },
  {
   "cell_type": "code",
   "execution_count": 168,
   "id": "bc7941cb",
   "metadata": {},
   "outputs": [
    {
     "name": "stdout",
     "output_type": "stream",
     "text": [
      "[0 0 1 0 0 0 0 0 0 0 0 0 0 0 0 0 0 0 0 1 1 0 1 1 0 0 0 0 0 0 0 1 0 1 0 0 0\n",
      " 1 1 0 0 0 1 1 1 1 0 0 0 1 0 0 1 1 1 0 0 0 0 0 0 1 0 0 0 0 1 1 0 0 0 0 0 0\n",
      " 0 0 0 0 1 1 0 1 0 0 1 0 0 0 0 1 0 0 0 0 0 0 1 1 0 0 0 0 0 1 1 0 0 0 0 1 0\n",
      " 0 0 1 1 0 0 0 0 0 1 0 0 0 0 0 1 1 1 0 0 0 0 0 1 1 0 0 1 0 0 0 0 0 0 0 1 0\n",
      " 0 1 0 1 0 0 0 0 0 0 0 0 0 0 1 0 0 0 0 0 0 0 0 0 0 0 0 0 0 0 1 0 0 0 0 0 1\n",
      " 1 0 0 0 0 1 0 0 1 0 0 0 0 0 0 0 1 0 0 0 1 1 0 0 0 0 0 0 0 0 0 0 0 0 0 0 0\n",
      " 0 0 0 0 0 0 0 0 0 0 0 0 0 0 0 1 0 0 0 1 0 0 0 0 0 0 0 0 0 1 0 0 0 0 0 0 0\n",
      " 0 0 1 1 0 0 1 1 0]\n"
     ]
    }
   ],
   "source": [
    "print(y_pred)"
   ]
  },
  {
   "cell_type": "code",
   "execution_count": 169,
   "id": "55af564b",
   "metadata": {},
   "outputs": [],
   "source": [
    "dtc_matrix = confusion_matrix(y_test,y_pred)"
   ]
  },
  {
   "cell_type": "code",
   "execution_count": 170,
   "id": "0d30386c",
   "metadata": {},
   "outputs": [
    {
     "name": "stdout",
     "output_type": "stream",
     "text": [
      "[[210   0]\n",
      " [  0  58]]\n"
     ]
    }
   ],
   "source": [
    "print(dtc_matrix)"
   ]
  },
  {
   "cell_type": "code",
   "execution_count": 171,
   "id": "c2f9d487",
   "metadata": {},
   "outputs": [],
   "source": [
    "dtc_score = accuracy_score(y_test,y_pred)"
   ]
  },
  {
   "cell_type": "code",
   "execution_count": 172,
   "id": "e51cb08d",
   "metadata": {},
   "outputs": [
    {
     "data": {
      "image/png": "[encoded data removed]",
      "text/plain": [
       "<Figure size 640x480 with 1 Axes>"
      ]
     },
     "metadata": {},
     "output_type": "display_data"
    }
   ],
   "source": [
    "auc_score = roc_auc_score(y_test,y_pred)\n",
    "fpr, tpr, thresholds = roc_curve(y_test,y_pred)\n",
    "plt.plot(fpr, tpr, label='ROC curve (AUC = %0.2f)' % auc_score)\n",
    "plt.plot([0, 1], [0, 1], 'k--')  # Plotting the diagonal line for reference\n",
    "plt.xlim([0.0, 1.0])\n",
    "plt.ylim([0.0, 1.05])\n",
    "plt.xlabel('False Positive Rate (FPR)')\n",
    "plt.ylabel('True Positive Rate (TPR)')\n",
    "plt.title('Receiver Operating Characteristic (ROC) Curve')\n",
    "plt.legend(loc='lower right')\n",
    "plt.show()"
   ]
  },
  {
   "cell_type": "code",
   "execution_count": 74,
   "id": "b81fca8d",
   "metadata": {},
   "outputs": [
    {
     "name": "stdout",
     "output_type": "stream",
     "text": [
      "1.0\n"
     ]
    }
   ],
   "source": [
    "print(dtc_score)"
   ]
  },
  {
   "cell_type": "code",
   "execution_count": 75,
   "id": "ab3fb76a",
   "metadata": {},
   "outputs": [
    {
     "name": "stdout",
     "output_type": "stream",
     "text": [
      "[1]\n"
     ]
    }
   ],
   "source": [
    "print(dtc.predict(scaler.transform([[30,87000]])))"
   ]
  },
  {
   "cell_type": "code",
   "execution_count": 76,
   "id": "d457823c",
   "metadata": {},
   "outputs": [
    {
     "name": "stdout",
     "output_type": "stream",
     "text": [
      "[0]\n"
     ]
    }
   ],
   "source": [
    "print(dtc.predict(scaler.transform([[40,0]])))"
   ]
  },
  {
   "cell_type": "code",
   "execution_count": 77,
   "id": "9323eb14",
   "metadata": {},
   "outputs": [
    {
     "name": "stdout",
     "output_type": "stream",
     "text": [
      "[1]\n"
     ]
    }
   ],
   "source": [
    "print(dtc.predict(scaler.transform([[40,100000]])))"
   ]
  },
  {
   "cell_type": "code",
   "execution_count": 78,
   "id": "8b5080e5",
   "metadata": {},
   "outputs": [
    {
     "name": "stdout",
     "output_type": "stream",
     "text": [
      "[0]\n"
     ]
    }
   ],
   "source": [
    "print(dtc.predict(scaler.transform([[50,0]])))"
   ]
  },
  {
   "cell_type": "code",
   "execution_count": 79,
   "id": "dc6dc37b",
   "metadata": {},
   "outputs": [],
   "source": [
    "#home_work"
   ]
  },
  {
   "cell_type": "code",
   "execution_count": 80,
   "id": "9f67580b",
   "metadata": {},
   "outputs": [
    {
     "name": "stdout",
     "output_type": "stream",
     "text": [
      "[1]\n"
     ]
    }
   ],
   "source": [
    "print(dtc.predict(scaler.transform([[22,600000]])))"
   ]
  },
  {
   "cell_type": "code",
   "execution_count": 81,
   "id": "381cfffe",
   "metadata": {},
   "outputs": [
    {
     "name": "stdout",
     "output_type": "stream",
     "text": [
      "[1]\n"
     ]
    }
   ],
   "source": [
    "print(dtc.predict(scaler.transform([[35,2500000]])))"
   ]
  },
  {
   "cell_type": "code",
   "execution_count": 82,
   "id": "e5ad5041",
   "metadata": {},
   "outputs": [
    {
     "name": "stdout",
     "output_type": "stream",
     "text": [
      "[1]\n"
     ]
    }
   ],
   "source": [
    "print(dtc.predict(scaler.transform([[60,10000000]])))"
   ]
  },
  {
   "cell_type": "code",
   "execution_count": 83,
   "id": "880f1b8f",
   "metadata": {},
   "outputs": [],
   "source": [
    "#Random_forest_ensemble_learning"
   ]
  },
  {
   "cell_type": "code",
   "execution_count": 194,
   "id": "c0a84154",
   "metadata": {},
   "outputs": [],
   "source": [
    "from sklearn.ensemble import RandomForestClassifier"
   ]
  },
  {
   "cell_type": "code",
   "execution_count": 195,
   "id": "4b023e22",
   "metadata": {},
   "outputs": [],
   "source": [
    "rfc = RandomForestClassifier(n_estimators = 10,criterion = 'entropy')"
   ]
  },
  {
   "cell_type": "code",
   "execution_count": 196,
   "id": "70ee9508",
   "metadata": {},
   "outputs": [
    {
     "data": {
      "text/plain": [
       "RandomForestClassifier(criterion='entropy', n_estimators=10)"
      ]
     },
     "execution_count": 196,
     "metadata": {},
     "output_type": "execute_result"
    }
   ],
   "source": [
    "rfc.fit(x_train,y_train)"
   ]
  },
  {
   "cell_type": "code",
   "execution_count": 197,
   "id": "344c4a3e",
   "metadata": {},
   "outputs": [],
   "source": [
    "y_pred = rfc.predict(x_test)"
   ]
  },
  {
   "cell_type": "code",
   "execution_count": 198,
   "id": "3476b518",
   "metadata": {},
   "outputs": [
    {
     "name": "stdout",
     "output_type": "stream",
     "text": [
      "[0 0 1 0 0 0 0 0 0 0 0 0 0 0 0 0 0 0 0 1 1 0 1 1 0 0 0 0 0 0 0 1 0 1 0 0 0\n",
      " 1 1 0 0 0 1 1 1 1 0 0 0 1 0 0 1 1 1 0 0 0 0 0 0 1 0 0 0 0 1 1 0 0 0 0 0 0\n",
      " 0 0 0 0 1 1 0 1 0 0 1 0 0 0 0 1 0 0 0 0 0 0 1 1 0 0 0 0 0 1 1 0 0 0 0 1 0\n",
      " 0 0 1 1 0 0 0 0 0 1 0 0 0 0 0 1 1 1 0 0 0 0 0 1 1 0 0 1 0 0 0 0 0 0 0 1 0\n",
      " 0 1 0 1 0 0 0 0 0 0 0 0 0 0 1 0 0 0 0 0 0 0 0 0 0 0 0 0 0 0 1 0 0 0 0 0 1\n",
      " 1 0 0 0 0 1 0 0 1 0 0 0 0 0 0 0 1 0 0 0 1 1 0 0 0 0 0 0 0 0 0 0 0 0 0 0 0\n",
      " 0 0 0 0 0 0 0 0 0 0 0 0 0 0 0 1 0 0 0 1 0 0 0 0 0 0 0 0 0 1 0 0 0 0 0 0 0\n",
      " 0 0 1 1 0 0 1 1 0]\n"
     ]
    }
   ],
   "source": [
    "print(y_pred)"
   ]
  },
  {
   "cell_type": "code",
   "execution_count": 199,
   "id": "3b1e4792",
   "metadata": {},
   "outputs": [],
   "source": [
    "rfc_score = accuracy_score(y_test,y_pred)"
   ]
  },
  {
   "cell_type": "code",
   "execution_count": 200,
   "id": "7956a122",
   "metadata": {},
   "outputs": [
    {
     "name": "stdout",
     "output_type": "stream",
     "text": [
      "1.0\n"
     ]
    }
   ],
   "source": [
    "print(rfc_score)"
   ]
  },
  {
   "cell_type": "code",
   "execution_count": 201,
   "id": "efe9e64f",
   "metadata": {},
   "outputs": [],
   "source": [
    "rfc_matrix  = confusion_matrix(y_test,y_pred)"
   ]
  },
  {
   "cell_type": "code",
   "execution_count": 202,
   "id": "12f9a805",
   "metadata": {},
   "outputs": [
    {
     "name": "stdout",
     "output_type": "stream",
     "text": [
      "[[210   0]\n",
      " [  0  58]]\n"
     ]
    }
   ],
   "source": [
    "print(rfc_matrix)"
   ]
  },
  {
   "cell_type": "code",
   "execution_count": 203,
   "id": "c7d064be",
   "metadata": {},
   "outputs": [
    {
     "data": {
      "image/png": "[encoded data removed]",
      "text/plain": [
       "<Figure size 640x480 with 1 Axes>"
      ]
     },
     "metadata": {},
     "output_type": "display_data"
    }
   ],
   "source": [
    "auc_score = roc_auc_score(y_test,y_pred)\n",
    "fpr, tpr, thresholds = roc_curve(y_test,y_pred)\n",
    "plt.plot(fpr, tpr, label='ROC curve (AUC = %0.2f)' % auc_score)\n",
    "plt.plot([0, 1], [0, 1], 'k--')  # Plotting the diagonal line for reference\n",
    "plt.xlim([0.0, 1.0])\n",
    "plt.ylim([0.0, 1.05])\n",
    "plt.xlabel('False Positive Rate (FPR)')\n",
    "plt.ylabel('True Positive Rate (TPR)')\n",
    "plt.title('Receiver Operating Characteristic (ROC) Curve')\n",
    "plt.legend(loc='lower right')\n",
    "plt.show()"
   ]
  },
  {
   "cell_type": "code",
   "execution_count": 205,
   "id": "2b1ead3d",
   "metadata": {},
   "outputs": [
    {
     "name": "stderr",
     "output_type": "stream",
     "text": [
      "*c* argument looks like a single numeric RGB or RGBA sequence, which should be avoided as value-mapping will have precedence in case its length matches with *x* & *y*.  Please use the *color* keyword-argument or provide a 2D array with a single row if you intend to specify the same RGB or RGBA value for all points.\n",
      "*c* argument looks like a single numeric RGB or RGBA sequence, which should be avoided as value-mapping will have precedence in case its length matches with *x* & *y*.  Please use the *color* keyword-argument or provide a 2D array with a single row if you intend to specify the same RGB or RGBA value for all points.\n"
     ]
    },
    {
     "data": {
      "image/png": "[encoded data removed]",
      "text/plain": [
       "<Figure size 640x480 with 1 Axes>"
      ]
     },
     "metadata": {},
     "output_type": "display_data"
    }
   ],
   "source": [
    "x_set,y_set = x_train,y_train\n",
    "x1, x2 = np.meshgrid(np.arange(start = x_set[:, 0].min() - 1, stop = x_set[:, 0].max() + 1, step  =0.01),  \n",
    "np.arange(start = x_set[:, 1].min() - 1, stop = x_set[:, 1].max() + 1, step = 0.01))  \n",
    "mtp.contourf(x1, x2, rfc.predict(np.array([x1.ravel(), x2.ravel()]).T).reshape(x1.shape),  \n",
    "alpha = 0.75, cmap = ListedColormap(('blue','red' )))  \n",
    "mtp.xlim(x1.min(), x1.max())  \n",
    "mtp.ylim(x2.min(), x2.max())  \n",
    "for i, j in enumerate(np.unique(y_set)):  \n",
    "    mtp.scatter(x_set[y_set == j, 0], x_set[y_set == j, 1],  \n",
    "        c = ListedColormap(('blue', 'red'))(i), label = j)  \n",
    "mtp.title('rfc (Test set)')  \n",
    "mtp.xlabel('Age')  \n",
    "mtp.ylabel('Estimated Salary')  \n",
    "mtp.legend()  \n",
    "mtp.show()  "
   ]
  },
  {
   "cell_type": "code",
   "execution_count": 93,
   "id": "20b70297",
   "metadata": {},
   "outputs": [
    {
     "name": "stdout",
     "output_type": "stream",
     "text": [
      "[1]\n"
     ]
    }
   ],
   "source": [
    "print(rfc.predict(scaler.transform([[30,87000]])))"
   ]
  },
  {
   "cell_type": "code",
   "execution_count": 94,
   "id": "87054741",
   "metadata": {},
   "outputs": [
    {
     "name": "stdout",
     "output_type": "stream",
     "text": [
      "[0]\n"
     ]
    }
   ],
   "source": [
    "print(rfc.predict(scaler.transform([[40,0]])))"
   ]
  },
  {
   "cell_type": "code",
   "execution_count": 95,
   "id": "691ca772",
   "metadata": {},
   "outputs": [
    {
     "name": "stdout",
     "output_type": "stream",
     "text": [
      "[1]\n"
     ]
    }
   ],
   "source": [
    "print(rfc.predict(scaler.transform([[40,100000]])))"
   ]
  },
  {
   "cell_type": "code",
   "execution_count": 96,
   "id": "a4b33d67",
   "metadata": {},
   "outputs": [
    {
     "name": "stdout",
     "output_type": "stream",
     "text": [
      "[0]\n"
     ]
    }
   ],
   "source": [
    "print(rfc.predict(scaler.transform([[50,0]])))"
   ]
  },
  {
   "cell_type": "code",
   "execution_count": 97,
   "id": "694f80e5",
   "metadata": {},
   "outputs": [
    {
     "name": "stdout",
     "output_type": "stream",
     "text": [
      "[1]\n"
     ]
    }
   ],
   "source": [
    "print(rfc.predict(scaler.transform([[22,600000]])))"
   ]
  },
  {
   "cell_type": "code",
   "execution_count": 98,
   "id": "04c5511a",
   "metadata": {},
   "outputs": [
    {
     "name": "stdout",
     "output_type": "stream",
     "text": [
      "[1]\n"
     ]
    }
   ],
   "source": [
    "print(rfc.predict(scaler.transform([[35,2500000]])))"
   ]
  },
  {
   "cell_type": "code",
   "execution_count": 99,
   "id": "bf35dcc7",
   "metadata": {},
   "outputs": [
    {
     "name": "stdout",
     "output_type": "stream",
     "text": [
      "[1]\n"
     ]
    }
   ],
   "source": [
    "print(rfc.predict(scaler.transform([[60,10000000]])))"
   ]
  },
  {
   "cell_type": "code",
   "execution_count": null,
   "id": "cefea6c1",
   "metadata": {},
   "outputs": [],
   "source": []
  }
 ],
 "metadata": {
  "kernelspec": {
   "display_name": "Python 3 (ipykernel)",
   "language": "python",
   "name": "python3"
  },
  "language_info": {
   "codemirror_mode": {
    "name": "ipython",
    "version": 3
   },
   "file_extension": ".py",
   "mimetype": "text/x-python",
   "name": "python",
   "nbconvert_exporter": "python",
   "pygments_lexer": "ipython3",
   "version": "3.9.13"
  }
 },
 "nbformat": 4,
 "nbformat_minor": 5
}
